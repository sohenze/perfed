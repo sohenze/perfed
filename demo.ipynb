{
 "cells": [
  {
   "cell_type": "code",
   "execution_count": 4,
   "id": "7ba3b19a",
   "metadata": {},
   "outputs": [
    {
     "name": "stdout",
     "output_type": "stream",
     "text": [
      "Timer      Elasped Time\n",
      "-------  --------------\n",
      "first          0.200766\n",
      "second         0.301181\n",
      "third          0.400664\n",
      "------CSV-----\n",
      "Timer,Elasped Time\n",
      "first,0.200766\n",
      "second,0.301181\n",
      "third,0.4006642\n"
     ]
    }
   ],
   "source": [
    "import time\n",
    "from perfed.timer_manager import TimerManager\n",
    "\n",
    "timer_manager = TimerManager()\n",
    "\n",
    "timer_manager.start(\"first\")\n",
    "time.sleep(0.2)\n",
    "timer_manager.stop(\"first\")\n",
    "\n",
    "timer_manager.start(\"second\")\n",
    "time.sleep(0.3)\n",
    "timer_manager.stop(\"second\")\n",
    "\n",
    "with timer_manager.start(\"third\"):\n",
    "    time.sleep(0.4)\n",
    "\n",
    "timer_manager.show(unit=\"sec\")\n",
    "print(\"------CSV-----\")\n",
    "timer_manager.to_csv(unit=\"sec\")"
   ]
  }
 ],
 "metadata": {
  "kernelspec": {
   "display_name": ".venv",
   "language": "python",
   "name": "python3"
  },
  "language_info": {
   "codemirror_mode": {
    "name": "ipython",
    "version": 3
   },
   "file_extension": ".py",
   "mimetype": "text/x-python",
   "name": "python",
   "nbconvert_exporter": "python",
   "pygments_lexer": "ipython3",
   "version": "3.13.0"
  }
 },
 "nbformat": 4,
 "nbformat_minor": 5
}
