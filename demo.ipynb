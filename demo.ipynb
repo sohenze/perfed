{
 "cells": [
  {
   "cell_type": "code",
   "execution_count": 4,
   "id": "7ba3b19a",
   "metadata": {},
   "outputs": [
    {
     "name": "stdout",
     "output_type": "stream",
     "text": [
      "Timer      Elasped Time\n",
      "-------  --------------\n",
      "first          0.200766\n",
      "second         0.301181\n",
      "third          0.400664\n",
      "------CSV-----\n",
      "Timer,Elasped Time\n",
      "first,0.200766\n",
      "second,0.301181\n",
      "third,0.4006642\n"
     ]
    }
   ],
   "source": [
    "import time\n",
    "from perfed.timer_manager import TimerManager\n",
    "\n",
    "timer_manager = TimerManager()\n",
    "\n",
    "timer_manager.start(\"first\")\n",
    "time.sleep(0.2)\n",
    "timer_manager.stop(\"first\")\n",
    "\n",
    "timer_manager.start(\"second\")\n",
    "time.sleep(0.3)\n",
    "timer_manager.stop(\"second\")\n",
    "\n",
    "with timer_manager.start(\"third\"):\n",
    "    time.sleep(0.4)\n",
    "\n",
    "timer_manager.show(unit=\"sec\")\n",
    "print(\"------CSV-----\")\n",
    "timer_manager.to_csv(unit=\"sec\")"
   ]
  },
  {
   "cell_type": "code",
   "execution_count": 1,
   "id": "f9cf0439",
   "metadata": {},
   "outputs": [
    {
     "name": "stdout",
     "output_type": "stream",
     "text": [
      "49\n",
      "200\n",
      "455\n",
      "cat\n",
      "dog\n",
      "Timer           Elasped Time\n",
      "------------  --------------\n",
      "foo_timer(1)        0.200183\n",
      "foo_timer(2)        0.200126\n",
      "foo_timer(3)        0.200508\n",
      "0.20027236666666665\n",
      "Timer           Elasped Time\n",
      "------------  --------------\n",
      "bar_timer(1)        0.300116\n",
      "bar_timer(2)        0.300573\n",
      "0.3003445\n"
     ]
    }
   ],
   "source": [
    "import time\n",
    "from perfed.timer_decorator import TimerDecorator\n",
    "\n",
    "@TimerDecorator.decorate(\"foo_timer\")\n",
    "def foo(x: int):\n",
    "    print(x)\n",
    "    time.sleep(0.2)\n",
    "\n",
    "@TimerDecorator.decorate(\"bar_timer\")\n",
    "def bar(x: str):\n",
    "    print(x)\n",
    "    time.sleep(0.3)\n",
    "\n",
    "foo(49)\n",
    "foo(200)\n",
    "foo(455)\n",
    "\n",
    "bar(\"cat\")\n",
    "bar(\"dog\")\n",
    "\n",
    "TimerDecorator.get_manager(\"foo_timer\").show()\n",
    "print(TimerDecorator.get_manager(\"foo_timer\").average())\n",
    "TimerDecorator.get_manager(\"bar_timer\").show()\n",
    "print(TimerDecorator.get_manager(\"bar_timer\").average())"
   ]
  }
 ],
 "metadata": {
  "kernelspec": {
   "display_name": ".venv",
   "language": "python",
   "name": "python3"
  },
  "language_info": {
   "codemirror_mode": {
    "name": "ipython",
    "version": 3
   },
   "file_extension": ".py",
   "mimetype": "text/x-python",
   "name": "python",
   "nbconvert_exporter": "python",
   "pygments_lexer": "ipython3",
   "version": "3.13.0"
  }
 },
 "nbformat": 4,
 "nbformat_minor": 5
}
