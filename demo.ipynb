{
 "cells": [
  {
   "cell_type": "code",
   "execution_count": null,
   "id": "7ba3b19a",
   "metadata": {},
   "outputs": [
    {
     "name": "stdout",
     "output_type": "stream",
     "text": [
      "Timer      Elasped Time\n",
      "-------  --------------\n",
      "first          1.50042\n",
      "second         0.300524\n",
      "third          0.800164\n",
      "------CSV-----\n",
      "Timer,Elasped Time\n",
      "first,1.5004246\n",
      "second,0.3005243\n",
      "third,0.8001635\n"
     ]
    }
   ],
   "source": [
    "import time\n",
    "from perfed.timers import Timers\n",
    "\n",
    "\n",
    "timers = Timers()\n",
    "\n",
    "timers.start(\"first\")\n",
    "time.sleep(1.5)\n",
    "timers.stop(\"first\")\n",
    "\n",
    "timers.start(\"second\")\n",
    "time.sleep(0.3)\n",
    "timers.stop(\"second\")\n",
    "\n",
    "with timers.start(\"third\"):\n",
    "    time.sleep(0.8)\n",
    "\n",
    "\n",
    "timers.show(unit=\"sec\")\n",
    "print(\"------CSV-----\")\n",
    "timers.to_csv(unit=\"sec\")"
   ]
  }
 ],
 "metadata": {
  "kernelspec": {
   "display_name": ".venv",
   "language": "python",
   "name": "python3"
  },
  "language_info": {
   "codemirror_mode": {
    "name": "ipython",
    "version": 3
   },
   "file_extension": ".py",
   "mimetype": "text/x-python",
   "name": "python",
   "nbconvert_exporter": "python",
   "pygments_lexer": "ipython3",
   "version": "3.13.0"
  }
 },
 "nbformat": 4,
 "nbformat_minor": 5
}
