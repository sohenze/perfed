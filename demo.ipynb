{
 "cells": [
  {
   "cell_type": "code",
   "execution_count": null,
   "id": "7ba3b19a",
   "metadata": {},
   "outputs": [
    {
     "name": "stdout",
     "output_type": "stream",
     "text": [
      "~~~~~~~~~~TIMERS~~~~~~~~~~\n",
      "Timer      Elasped Time\n",
      "-------  --------------\n",
      "first          0.200473\n",
      "second         0.300519\n",
      "third          0.400214\n"
     ]
    }
   ],
   "source": [
    "import time\n",
    "from perfed.timer_manager import TimerManager\n",
    "\n",
    "tm = TimerManager()\n",
    "\n",
    "tm.start(\"first\")\n",
    "time.sleep(0.2)\n",
    "tm.stop(\"first\")\n",
    "\n",
    "tm.start(\"second\")\n",
    "time.sleep(0.3)\n",
    "tm.stop(\"second\")\n",
    "\n",
    "with tm.start(\"third\"):\n",
    "    time.sleep(0.4)\n",
    "\n",
    "print(\"~~~~~~~~~~TIMERS~~~~~~~~~~\")\n",
    "tm.show(unit=\"sec\")"
   ]
  },
  {
   "cell_type": "code",
   "execution_count": 1,
   "id": "f9cf0439",
   "metadata": {},
   "outputs": [
    {
     "name": "stdout",
     "output_type": "stream",
     "text": [
      "49\n",
      "200\n",
      "455\n",
      "cat\n",
      "dog\n",
      "~~~~~~~~~~FOO TIMERS~~~~~~~~~~\n",
      "Timer        Elasped Time\n",
      "---------  --------------\n",
      "foo_tm(1)        0.200905\n",
      "foo_tm(2)        0.200426\n",
      "foo_tm(3)        0.200805\n",
      "~~~~~~~~~~FOO STATS~~~~~~~~~~\n",
      "Stat        Value\n",
      "-------  --------\n",
      "Average  0.200712\n",
      "Max      0.200905\n",
      "Min      0.200426\n",
      "~~~~~~~~~~BAR TIMERS~~~~~~~~~~\n",
      "Timer        Elasped Time\n",
      "---------  --------------\n",
      "bar_tm(1)         0.30011\n",
      "bar_tm(2)         0.30071\n",
      "~~~~~~~~~~BAR STATS~~~~~~~~~~\n",
      "Stat       Value\n",
      "-------  -------\n",
      "Average  0.30041\n",
      "Max      0.30071\n",
      "Min      0.30011\n"
     ]
    }
   ],
   "source": [
    "import time\n",
    "from perfed.timer_decorator import TimerDecorator\n",
    "\n",
    "@TimerDecorator.decorate(\"foo_tm\")\n",
    "def foo(x: int):\n",
    "    print(x)\n",
    "    time.sleep(0.2)\n",
    "\n",
    "@TimerDecorator.decorate(\"bar_tm\")\n",
    "def bar(x: str):\n",
    "    print(x)\n",
    "    time.sleep(0.3)\n",
    "\n",
    "foo(49)\n",
    "foo(200)\n",
    "foo(455)\n",
    "\n",
    "bar(\"cat\")\n",
    "bar(\"dog\")\n",
    "\n",
    "print(\"~~~~~~~~~~FOO TIMERS~~~~~~~~~~\")\n",
    "TimerDecorator.get_manager(\"foo_tm\").show()\n",
    "print(\"~~~~~~~~~~FOO STATS~~~~~~~~~~\")\n",
    "TimerDecorator.get_manager(\"foo_tm\").show_stats()\n",
    "\n",
    "print(\"~~~~~~~~~~BAR TIMERS~~~~~~~~~~\")\n",
    "TimerDecorator.get_manager(\"bar_tm\").show()\n",
    "print(\"~~~~~~~~~~BAR STATS~~~~~~~~~~\")\n",
    "TimerDecorator.get_manager(\"bar_tm\").show_stats()"
   ]
  }
 ],
 "metadata": {
  "kernelspec": {
   "display_name": ".venv",
   "language": "python",
   "name": "python3"
  },
  "language_info": {
   "codemirror_mode": {
    "name": "ipython",
    "version": 3
   },
   "file_extension": ".py",
   "mimetype": "text/x-python",
   "name": "python",
   "nbconvert_exporter": "python",
   "pygments_lexer": "ipython3",
   "version": "3.13.0"
  }
 },
 "nbformat": 4,
 "nbformat_minor": 5
}
